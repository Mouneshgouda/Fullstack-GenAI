{
  "nbformat": 4,
  "nbformat_minor": 0,
  "metadata": {
    "colab": {
      "provenance": []
    },
    "kernelspec": {
      "name": "python3",
      "display_name": "Python 3"
    },
    "language_info": {
      "name": "python"
    }
  },
  "cells": [
    {
      "cell_type": "code",
      "execution_count": 2,
      "metadata": {
        "colab": {
          "base_uri": "https://localhost:8080/"
        },
        "id": "4oC5nBFQp3El",
        "outputId": "61b5e2e9-056a-4883-b74f-f600e3dd0189"
      },
      "outputs": [
        {
          "output_type": "stream",
          "name": "stdout",
          "text": [
            "Frequent Itemsets:\n",
            "    support        itemsets\n",
            "0      0.8          (Milk)\n",
            "1      0.8         (Bread)\n",
            "2      0.8         (Sugar)\n",
            "3      0.6   (Milk, Bread)\n",
            "4      0.6   (Milk, Sugar)\n",
            "5      0.6  (Bread, Sugar)\n",
            "\n",
            "Association Rules:\n",
            " Empty DataFrame\n",
            "Columns: [antecedents, consequents, support, confidence, lift]\n",
            "Index: []\n"
          ]
        },
        {
          "output_type": "stream",
          "name": "stderr",
          "text": [
            "/usr/local/lib/python3.11/dist-packages/mlxtend/frequent_patterns/fpcommon.py:161: DeprecationWarning: DataFrames with non-bool types result in worse computationalperformance and their support might be discontinued in the future.Please use a DataFrame with bool type\n",
            "  warnings.warn(\n"
          ]
        }
      ],
      "source": [
        "import pandas as pd\n",
        "from mlxtend.frequent_patterns import apriori, association_rules\n",
        "\n",
        "# Step 1: Create the transaction data directly\n",
        "data = [\n",
        "    {'Milk': 1, 'Bread': 1, 'Sugar': 0, 'TeaPowder': 0},\n",
        "    {'Milk': 1, 'Bread': 0, 'Sugar': 1, 'TeaPowder': 1},\n",
        "    {'Milk': 1, 'Bread': 1, 'Sugar': 1, 'TeaPowder': 0},\n",
        "    {'Milk': 0, 'Bread': 1, 'Sugar': 1, 'TeaPowder': 0},\n",
        "    {'Milk': 1, 'Bread': 1, 'Sugar': 1, 'TeaPowder': 1},\n",
        "]\n",
        "\n",
        "# Convert to DataFrameby\n",
        "df = pd.DataFrame(data)\n",
        "\n",
        "# Step 2: Apply Apriori to find frequent itemsets\n",
        "frequent_itemsets = apriori(df, min_support=0.6, use_colnames=True)\n",
        "\n",
        "# Step 3: Generate association rules\n",
        "rules = association_rules(frequent_itemsets, metric=\"confidence\", min_threshold=0.8)\n",
        "\n",
        "# Step 4: Display results\n",
        "print(\"Frequent Itemsets:\\n\", frequent_itemsets)\n",
        "print(\"\\nAssociation Rules:\\n\", rules[['antecedents', 'consequents', 'support', 'confidence', 'lift']])\n"
      ]
    }
  ]
}